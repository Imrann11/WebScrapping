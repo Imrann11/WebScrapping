{
 "cells": [
  {
   "cell_type": "code",
   "execution_count": 46,
   "id": "3ee3486f",
   "metadata": {},
   "outputs": [],
   "source": [
    "from bs4 import BeautifulSoup\n",
    "import requests\n",
    "import time\n",
    "import datetime\n",
    "import smtplib\n",
    "import pandas as pd\n",
    "import os"
   ]
  },
  {
   "cell_type": "markdown",
   "id": "4b8b0812",
   "metadata": {},
   "source": [
    "Connecting to website"
   ]
  },
  {
   "cell_type": "code",
   "execution_count": 2,
   "id": "5d60bcfc",
   "metadata": {},
   "outputs": [],
   "source": [
    "URL='https://github.com/topics'\n",
    "Headers={\"User-Agent\": \"Mozilla/5.0 (Windows NT 10.0; Win64; x64) AppleWebKit/537.36 (KHTML, like Gecko) Chrome/105.0.0.0 Safari/537.36 Edg/105.0.1343.42\", \"Accept-Encoding\": \"gzip, deflate, br\", \"Accept\": \"text/html,application/xhtml+xml,application/xml;q=0.9,image/webp,image/apng,*/*;q=0.8,application/signed-exchange;v=b3;q=0.9\",\"DNT\":\"1\",\"Connection\":\"Close\",\"Upgrade-Insecure-Requests\":\"1\"} \n"
   ]
  },
  {
   "cell_type": "code",
   "execution_count": 3,
   "id": "41b9775f",
   "metadata": {},
   "outputs": [],
   "source": [
    "page_request=requests.get(URL,headers=Headers)\n",
    "\n",
    "\n",
    "webpage_content=page_request.text"
   ]
  },
  {
   "cell_type": "markdown",
   "id": "4a4547b1",
   "metadata": {},
   "source": [
    "Downloading Web Page"
   ]
  },
  {
   "cell_type": "code",
   "execution_count": 4,
   "id": "2769fe71",
   "metadata": {},
   "outputs": [],
   "source": [
    "with open('webpageGithub.html', 'w',encoding='UTF8') as f:\n",
    "    f.write(webpage_content)"
   ]
  },
  {
   "cell_type": "code",
   "execution_count": 5,
   "id": "fbdb2bdf",
   "metadata": {},
   "outputs": [],
   "source": [
    "doc=BeautifulSoup(page_request.content,\"html.parser\")"
   ]
  },
  {
   "cell_type": "code",
   "execution_count": 6,
   "id": "9e24ee09",
   "metadata": {},
   "outputs": [],
   "source": [
    "topic_title_tags=doc.find_all('p',class_='f3 lh-condensed mb-0 mt-1 Link--primary')"
   ]
  },
  {
   "cell_type": "code",
   "execution_count": 7,
   "id": "6f0bd47b",
   "metadata": {},
   "outputs": [
    {
     "name": "stdout",
     "output_type": "stream",
     "text": [
      "['3D', 'Ajax', 'Algorithm', 'Amp', 'Android', 'Angular', 'Ansible', 'API', 'Arduino', 'ASP.NET', 'Atom', 'Awesome Lists', 'Amazon Web Services', 'Azure', 'Babel', 'Bash', 'Bitcoin', 'Bootstrap', 'Bot', 'C', 'Chrome', 'Chrome extension', 'Command line interface', 'Clojure', 'Code quality', 'Code review', 'Compiler', 'Continuous integration', 'COVID-19', 'C++']\n",
      "['3D modeling is the process of virtually developing the surface and structure of a 3D object.', 'Ajax is a technique for creating interactive web applications.', 'Algorithms are self-contained sequences that carry out a variety of tasks.', 'Amp is a non-blocking concurrency library for PHP.', 'Android is an operating system built by Google designed for mobile devices.', 'Angular is an open source web application platform.', 'Ansible is a simple and powerful automation engine.', 'An API (Application Programming Interface) is a collection of protocols and subroutines for building software.', 'Arduino is an open source hardware and software company and maker community.', 'ASP.NET is a web framework for building modern web apps and services.', 'Atom is a open source text editor built with web technologies.', 'An awesome list is a list of awesome things curated by the community.', 'Amazon Web Services provides on-demand cloud computing platforms on a subscription basis.', 'Azure is a cloud computing service created by Microsoft.', 'Babel is a compiler for writing next generation JavaScript, today.', 'Bash is a shell and command language interpreter for the GNU operating system.', 'Bitcoin is a cryptocurrency developed by Satoshi Nakamoto.', 'Bootstrap is an HTML, CSS, and JavaScript framework.', 'A bot is an application that runs automated tasks over the Internet.', 'C is a general purpose programming language that first appeared in 1972.', 'Chrome is a web browser from the tech company Google.', 'Chrome extensions enable users to customize the Chrome browsing experience.', 'A CLI, or command-line interface, is a console that helps users issue commands to a program.', 'Clojure is a dynamic, general-purpose programming language.', 'Automate your code review with style, quality, security, and test‑coverage checks when you need them.', 'Ensure your code meets quality standards and ship with confidence.', 'Compilers are software that translate higher-level programming languages to lower-level languages (e.g. machine code).', 'Automatically build and test your code as you push it upstream, preventing bugs from being deployed to production.', 'The coronavirus disease 2019 (COVID-19) is an infectious disease caused by SARS-CoV-2.', 'C++ is a general purpose and object-oriented programming language.']\n",
      "['https://github.com/topics/3d', 'https://github.com/topics/ajax', 'https://github.com/topics/algorithm', 'https://github.com/topics/amphp', 'https://github.com/topics/android', 'https://github.com/topics/angular', 'https://github.com/topics/ansible', 'https://github.com/topics/api', 'https://github.com/topics/arduino', 'https://github.com/topics/aspnet', 'https://github.com/topics/atom', 'https://github.com/topics/awesome', 'https://github.com/topics/aws', 'https://github.com/topics/azure', 'https://github.com/topics/babel', 'https://github.com/topics/bash', 'https://github.com/topics/bitcoin', 'https://github.com/topics/bootstrap', 'https://github.com/topics/bot', 'https://github.com/topics/c', 'https://github.com/topics/chrome', 'https://github.com/topics/chrome-extension', 'https://github.com/topics/cli', 'https://github.com/topics/clojure', 'https://github.com/topics/code-quality', 'https://github.com/topics/code-review', 'https://github.com/topics/compiler', 'https://github.com/topics/continuous-integration', 'https://github.com/topics/covid-19', 'https://github.com/topics/cpp']\n"
     ]
    }
   ],
   "source": [
    "topic_title_tags=doc.find_all('p',class_='f3 lh-condensed mb-0 mt-1 Link--primary')\n",
    "topic_desc_tags=doc.find_all('p',class_='f5 color-fg-muted mb-0 mt-1')\n",
    "topic_url_tags=doc.find_all('a',class_='no-underline flex-1 d-flex flex-column')\n",
    "topic_titles=[]\n",
    "for tag in topic_title_tags:\n",
    "    topic_titles.append(tag.text)\n",
    "print(topic_titles)\n",
    "topic_desc=[]\n",
    "for tag in topic_desc_tags:\n",
    "    topic_desc.append(tag.text.strip())\n",
    "print(topic_desc)\n",
    "topic_urls=[]\n",
    "for tag in topic_url_tags:\n",
    "    topic_urls.append('https://github.com'+tag['href'])\n",
    "print(topic_urls)"
   ]
  },
  {
   "cell_type": "code",
   "execution_count": 8,
   "id": "cb773ebf",
   "metadata": {},
   "outputs": [
    {
     "data": {
      "text/plain": [
       "30"
      ]
     },
     "execution_count": 8,
     "metadata": {},
     "output_type": "execute_result"
    }
   ],
   "source": [
    "len(topic_title_tags)"
   ]
  },
  {
   "cell_type": "code",
   "execution_count": 9,
   "id": "c3723684",
   "metadata": {},
   "outputs": [],
   "source": [
    "topic_desc_tags=doc.find_all('p',class_='f5 color-fg-muted mb-0 mt-1')"
   ]
  },
  {
   "cell_type": "code",
   "execution_count": 10,
   "id": "05a67ebd",
   "metadata": {},
   "outputs": [
    {
     "data": {
      "text/plain": [
       "30"
      ]
     },
     "execution_count": 10,
     "metadata": {},
     "output_type": "execute_result"
    }
   ],
   "source": [
    "len(topic_desc_tags)"
   ]
  },
  {
   "cell_type": "code",
   "execution_count": 11,
   "id": "a58f1718",
   "metadata": {},
   "outputs": [],
   "source": [
    "topic_url_tags=doc.find_all('a',class_='no-underline flex-1 d-flex flex-column')"
   ]
  },
  {
   "cell_type": "code",
   "execution_count": 12,
   "id": "e294496e",
   "metadata": {},
   "outputs": [
    {
     "name": "stdout",
     "output_type": "stream",
     "text": [
      "['3D', 'Ajax', 'Algorithm', 'Amp', 'Android', 'Angular', 'Ansible', 'API', 'Arduino', 'ASP.NET', 'Atom', 'Awesome Lists', 'Amazon Web Services', 'Azure', 'Babel', 'Bash', 'Bitcoin', 'Bootstrap', 'Bot', 'C', 'Chrome', 'Chrome extension', 'Command line interface', 'Clojure', 'Code quality', 'Code review', 'Compiler', 'Continuous integration', 'COVID-19', 'C++']\n"
     ]
    }
   ],
   "source": [
    "topic_titles=[]\n",
    "for tag in topic_title_tags:\n",
    "    topic_titles.append(tag.text)\n",
    "print(topic_titles)\n",
    "    "
   ]
  },
  {
   "cell_type": "code",
   "execution_count": 13,
   "id": "fade5df3",
   "metadata": {},
   "outputs": [
    {
     "name": "stdout",
     "output_type": "stream",
     "text": [
      "['3D modeling is the process of virtually developing the surface and structure of a 3D object.', 'Ajax is a technique for creating interactive web applications.', 'Algorithms are self-contained sequences that carry out a variety of tasks.', 'Amp is a non-blocking concurrency library for PHP.', 'Android is an operating system built by Google designed for mobile devices.', 'Angular is an open source web application platform.', 'Ansible is a simple and powerful automation engine.', 'An API (Application Programming Interface) is a collection of protocols and subroutines for building software.', 'Arduino is an open source hardware and software company and maker community.', 'ASP.NET is a web framework for building modern web apps and services.', 'Atom is a open source text editor built with web technologies.', 'An awesome list is a list of awesome things curated by the community.', 'Amazon Web Services provides on-demand cloud computing platforms on a subscription basis.', 'Azure is a cloud computing service created by Microsoft.', 'Babel is a compiler for writing next generation JavaScript, today.', 'Bash is a shell and command language interpreter for the GNU operating system.', 'Bitcoin is a cryptocurrency developed by Satoshi Nakamoto.', 'Bootstrap is an HTML, CSS, and JavaScript framework.', 'A bot is an application that runs automated tasks over the Internet.', 'C is a general purpose programming language that first appeared in 1972.', 'Chrome is a web browser from the tech company Google.', 'Chrome extensions enable users to customize the Chrome browsing experience.', 'A CLI, or command-line interface, is a console that helps users issue commands to a program.', 'Clojure is a dynamic, general-purpose programming language.', 'Automate your code review with style, quality, security, and test‑coverage checks when you need them.', 'Ensure your code meets quality standards and ship with confidence.', 'Compilers are software that translate higher-level programming languages to lower-level languages (e.g. machine code).', 'Automatically build and test your code as you push it upstream, preventing bugs from being deployed to production.', 'The coronavirus disease 2019 (COVID-19) is an infectious disease caused by SARS-CoV-2.', 'C++ is a general purpose and object-oriented programming language.']\n"
     ]
    }
   ],
   "source": [
    "topic_desc=[]\n",
    "for tag in topic_desc_tags:\n",
    "    topic_desc.append(tag.text.strip())\n",
    "print(topic_desc)"
   ]
  },
  {
   "cell_type": "code",
   "execution_count": 14,
   "id": "7f558abc",
   "metadata": {},
   "outputs": [
    {
     "name": "stdout",
     "output_type": "stream",
     "text": [
      "['https://github.com/topics/3d', 'https://github.com/topics/ajax', 'https://github.com/topics/algorithm', 'https://github.com/topics/amphp', 'https://github.com/topics/android', 'https://github.com/topics/angular', 'https://github.com/topics/ansible', 'https://github.com/topics/api', 'https://github.com/topics/arduino', 'https://github.com/topics/aspnet', 'https://github.com/topics/atom', 'https://github.com/topics/awesome', 'https://github.com/topics/aws', 'https://github.com/topics/azure', 'https://github.com/topics/babel', 'https://github.com/topics/bash', 'https://github.com/topics/bitcoin', 'https://github.com/topics/bootstrap', 'https://github.com/topics/bot', 'https://github.com/topics/c', 'https://github.com/topics/chrome', 'https://github.com/topics/chrome-extension', 'https://github.com/topics/cli', 'https://github.com/topics/clojure', 'https://github.com/topics/code-quality', 'https://github.com/topics/code-review', 'https://github.com/topics/compiler', 'https://github.com/topics/continuous-integration', 'https://github.com/topics/covid-19', 'https://github.com/topics/cpp']\n"
     ]
    }
   ],
   "source": [
    "topic_urls=[]\n",
    "for tag in topic_url_tags:\n",
    "    topic_urls.append('https://github.com'+tag['href'])\n",
    "print(topic_urls)"
   ]
  },
  {
   "cell_type": "markdown",
   "id": "ae6e4278",
   "metadata": {},
   "source": [
    "CSV creation"
   ]
  },
  {
   "cell_type": "code",
   "execution_count": 15,
   "id": "39d7ed26",
   "metadata": {},
   "outputs": [],
   "source": [
    "import pandas as pd"
   ]
  },
  {
   "cell_type": "code",
   "execution_count": 16,
   "id": "2bb52c36",
   "metadata": {},
   "outputs": [],
   "source": [
    "base_table={'Title':topic_titles,\n",
    "            'Desc':topic_desc,\n",
    "            'URL':topic_urls}"
   ]
  },
  {
   "cell_type": "code",
   "execution_count": 17,
   "id": "fba226f0",
   "metadata": {},
   "outputs": [],
   "source": [
    "base_df=pd.DataFrame(base_table)"
   ]
  },
  {
   "cell_type": "code",
   "execution_count": 18,
   "id": "4c98d0a4",
   "metadata": {},
   "outputs": [],
   "source": [
    "base_df.to_csv('Githubtopics.csv', index=None)"
   ]
  },
  {
   "cell_type": "markdown",
   "id": "5c892279",
   "metadata": {},
   "source": [
    "Get Information from topic pages"
   ]
  },
  {
   "cell_type": "code",
   "execution_count": 19,
   "id": "264bff90",
   "metadata": {},
   "outputs": [],
   "source": [
    "page_URL=topic_urls[0]"
   ]
  },
  {
   "cell_type": "code",
   "execution_count": 20,
   "id": "63231f80",
   "metadata": {},
   "outputs": [
    {
     "data": {
      "text/plain": [
       "'https://github.com/topics/3d'"
      ]
     },
     "execution_count": 20,
     "metadata": {},
     "output_type": "execute_result"
    }
   ],
   "source": [
    "page_URL"
   ]
  },
  {
   "cell_type": "code",
   "execution_count": 21,
   "id": "f2ea6f6d",
   "metadata": {},
   "outputs": [],
   "source": [
    "page_response=requests.get(page_URL)"
   ]
  },
  {
   "cell_type": "code",
   "execution_count": 22,
   "id": "2e6b1a83",
   "metadata": {},
   "outputs": [
    {
     "data": {
      "text/plain": [
       "200"
      ]
     },
     "execution_count": 22,
     "metadata": {},
     "output_type": "execute_result"
    }
   ],
   "source": [
    "page_response.status_code"
   ]
  },
  {
   "cell_type": "code",
   "execution_count": 23,
   "id": "de78ac8f",
   "metadata": {},
   "outputs": [],
   "source": [
    "Topic_soup_01=BeautifulSoup(page_response.text,'html.parser')"
   ]
  },
  {
   "cell_type": "code",
   "execution_count": 24,
   "id": "9fe7bda4",
   "metadata": {},
   "outputs": [],
   "source": [
    "repo_tags=Topic_soup_01.find_all('h3',class_='f3 color-fg-muted text-normal lh-condensed')"
   ]
  },
  {
   "cell_type": "code",
   "execution_count": 25,
   "id": "fa13feb5",
   "metadata": {},
   "outputs": [],
   "source": [
    "a_tags=repo_tags[0].find_all('a')"
   ]
  },
  {
   "cell_type": "code",
   "execution_count": 26,
   "id": "37e398ee",
   "metadata": {},
   "outputs": [
    {
     "data": {
      "text/plain": [
       "'three.js'"
      ]
     },
     "execution_count": 26,
     "metadata": {},
     "output_type": "execute_result"
    }
   ],
   "source": [
    "a_tags[1].text.strip()"
   ]
  },
  {
   "cell_type": "code",
   "execution_count": 27,
   "id": "55fed7c4",
   "metadata": {},
   "outputs": [
    {
     "data": {
      "text/plain": [
       "'https://github.com/mrdoob/three.js'"
      ]
     },
     "execution_count": 27,
     "metadata": {},
     "output_type": "execute_result"
    }
   ],
   "source": [
    "base_url='https://github.com'\n",
    "repo_url=base_url+a_tags[1]['href']\n",
    "repo_url"
   ]
  },
  {
   "cell_type": "code",
   "execution_count": 28,
   "id": "9ca611dd",
   "metadata": {},
   "outputs": [],
   "source": [
    "star_tags=Topic_soup_01.find_all(id='repo-stars-counter-star')"
   ]
  },
  {
   "cell_type": "code",
   "execution_count": 29,
   "id": "cc89fafd",
   "metadata": {},
   "outputs": [
    {
     "data": {
      "text/plain": [
       "'85.8k'"
      ]
     },
     "execution_count": 29,
     "metadata": {},
     "output_type": "execute_result"
    }
   ],
   "source": [
    "star_tags[0].text.strip()"
   ]
  },
  {
   "cell_type": "code",
   "execution_count": 30,
   "id": "bac33db3",
   "metadata": {},
   "outputs": [],
   "source": [
    "def parsed_count_value(count_str):\n",
    "    count_str=count_str.strip()\n",
    "    if count_str[-1]=='k':\n",
    "        count_str=int(float(count_str[:-1])*1000.0)\n",
    "        return count_str\n",
    "    else:\n",
    "        return int(count_str)"
   ]
  },
  {
   "cell_type": "code",
   "execution_count": 31,
   "id": "c5d1db50",
   "metadata": {},
   "outputs": [
    {
     "data": {
      "text/plain": [
       "85800"
      ]
     },
     "execution_count": 31,
     "metadata": {},
     "output_type": "execute_result"
    }
   ],
   "source": [
    "parsed_count_value(star_tags[0].text)"
   ]
  },
  {
   "cell_type": "code",
   "execution_count": 32,
   "id": "23494a42",
   "metadata": {},
   "outputs": [],
   "source": [
    "def get_repo_info(h3_tag,star_tag):\n",
    "    a_tag=h3_tag.find_all('a')\n",
    "    username=a_tag[0].text.strip()\n",
    "    repo_name=a_tag[1].text.strip()\n",
    "    star_count=parsed_count_value(star_tag.text)\n",
    "    repo_URL=base_url+a_tag[1]['href']\n",
    "    return username,repo_name,star_count,repo_URL"
   ]
  },
  {
   "cell_type": "code",
   "execution_count": 33,
   "id": "911042ca",
   "metadata": {},
   "outputs": [
    {
     "data": {
      "text/plain": [
       "('mrdoob', 'three.js', 85800, 'https://github.com/mrdoob/three.js')"
      ]
     },
     "execution_count": 33,
     "metadata": {},
     "output_type": "execute_result"
    }
   ],
   "source": [
    "get_repo_info(repo_tags[0],star_tags[0])"
   ]
  },
  {
   "cell_type": "code",
   "execution_count": 34,
   "id": "c9d9f579",
   "metadata": {},
   "outputs": [],
   "source": [
    "repo_info_dict={'username':[],'repo_name':[],'stars':[],'repo_url':[]}\n",
    "for i in range(len(repo_tags)):\n",
    "    info=get_repo_info(repo_tags[i],star_tags[i])\n",
    "    repo_info_dict['username'].append(info[0])\n",
    "    repo_info_dict['repo_name'].append(info[1])\n",
    "    repo_info_dict['stars'].append(info[2])\n",
    "    repo_info_dict['repo_url'].append(info[3])\n",
    "    "
   ]
  },
  {
   "cell_type": "code",
   "execution_count": 35,
   "id": "fd7ebefe",
   "metadata": {},
   "outputs": [],
   "source": [
    "repo_df=pd.DataFrame(repo_info_dict)"
   ]
  },
  {
   "cell_type": "code",
   "execution_count": 36,
   "id": "deb77d89",
   "metadata": {},
   "outputs": [],
   "source": [
    "repo_df.to_csv('repo_info_table.csv', index=None)"
   ]
  },
  {
   "cell_type": "markdown",
   "id": "824948fd",
   "metadata": {},
   "source": [
    "Assembling everything into a function"
   ]
  },
  {
   "cell_type": "code",
   "execution_count": 37,
   "id": "ade9fde0",
   "metadata": {},
   "outputs": [],
   "source": [
    "def get_repos(topic_url):\n",
    "    response=requests.get(topic_url)\n",
    "    if response.status_code != 200:\n",
    "        raise Exception('Unable to load page').format(topic_url)\n",
    "    else:\n",
    "        topic_doc=BeautifulSoup(response.text,'html.parser')\n",
    "        repo_tags=topic_doc.find_all('h3',class_='f3 color-fg-muted text-normal lh-condensed')\n",
    "        star_tags=topic_doc.find_all(id='repo-stars-counter-star')\n",
    "        repo_info_dict={'username':[],'repo_name':[],'stars':[],'repo_url':[]}\n",
    "        for i in range(len(repo_tags)):\n",
    "            info=get_repo_info(repo_tags[i],star_tags[i])\n",
    "            repo_info_dict['username'].append(info[0])\n",
    "            repo_info_dict['repo_name'].append(info[1])\n",
    "            repo_info_dict['stars'].append(info[2])\n",
    "            repo_info_dict['repo_url'].append(info[3])\n",
    "    return pd.DataFrame(repo_info_dict)\n",
    "        \n",
    "\n",
    "        "
   ]
  },
  {
   "cell_type": "markdown",
   "id": "103d614b",
   "metadata": {},
   "source": [
    "Write a function which does following:\n",
    "->Fetches the list of topics from topic pages\n",
    "->Fetches the list of repos against the topic\n",
    "->Create a CSV file for each topic"
   ]
  },
  {
   "cell_type": "code",
   "execution_count": 38,
   "id": "6afb1696",
   "metadata": {},
   "outputs": [],
   "source": [
    "def fetch_topic_titles(doc):\n",
    "    topic_title_tags=doc.find_all('p',class_='f3 lh-condensed mb-0 mt-1 Link--primary')\n",
    "    topic_titles=[]\n",
    "    for tag in topic_title_tags:\n",
    "        topic_titles.append(tag.text)\n",
    "    return topic_titles\n",
    "\n",
    "def fetch_topic_desc(doc):\n",
    "    topic_desc_tags=doc.find_all('p',class_='f5 color-fg-muted mb-0 mt-1')\n",
    "    topic_desc=[]\n",
    "    for tag in topic_desc_tags:\n",
    "        topic_desc.append(tag.text.strip())\n",
    "    return topic_desc\n",
    "\n",
    "def fetch_topic_urls(doc):\n",
    "    topic_url_tags=doc.find_all('a',class_='no-underline flex-1 d-flex flex-column')\n",
    "    topic_urls=[]\n",
    "    for tag in topic_url_tags:\n",
    "        topic_urls.append('https://github.com'+tag['href'])\n",
    "    return topic_urls\n",
    "    \n",
    "    \n",
    "    \n",
    "def scrape_topics():\n",
    "    topic_url='https://github.com/topics'\n",
    "    response=requests.get(topic_url)\n",
    "    if response.status_code != 200:\n",
    "        raise Exception('Unable to load page').format(topic_url)\n",
    "    info_dict={\n",
    "        'Titles':fetch_topic_titles(doc),\n",
    "        'desc':fetch_topic_desc(doc),\n",
    "        'Url':fetch_topic_urls(doc)\n",
    "    \n",
    "    }\n",
    "    return pd.DataFrame(info_dict)\n",
    "    \n",
    "    \n",
    "    \n",
    "   \n",
    "   \n",
    "    \n"
   ]
  },
  {
   "cell_type": "code",
   "execution_count": 39,
   "id": "95456164",
   "metadata": {},
   "outputs": [
    {
     "data": {
      "text/html": [
       "<div>\n",
       "<style scoped>\n",
       "    .dataframe tbody tr th:only-of-type {\n",
       "        vertical-align: middle;\n",
       "    }\n",
       "\n",
       "    .dataframe tbody tr th {\n",
       "        vertical-align: top;\n",
       "    }\n",
       "\n",
       "    .dataframe thead th {\n",
       "        text-align: right;\n",
       "    }\n",
       "</style>\n",
       "<table border=\"1\" class=\"dataframe\">\n",
       "  <thead>\n",
       "    <tr style=\"text-align: right;\">\n",
       "      <th></th>\n",
       "      <th>Titles</th>\n",
       "      <th>desc</th>\n",
       "      <th>Url</th>\n",
       "    </tr>\n",
       "  </thead>\n",
       "  <tbody>\n",
       "    <tr>\n",
       "      <th>0</th>\n",
       "      <td>3D</td>\n",
       "      <td>3D modeling is the process of virtually develo...</td>\n",
       "      <td>https://github.com/topics/3d</td>\n",
       "    </tr>\n",
       "    <tr>\n",
       "      <th>1</th>\n",
       "      <td>Ajax</td>\n",
       "      <td>Ajax is a technique for creating interactive w...</td>\n",
       "      <td>https://github.com/topics/ajax</td>\n",
       "    </tr>\n",
       "    <tr>\n",
       "      <th>2</th>\n",
       "      <td>Algorithm</td>\n",
       "      <td>Algorithms are self-contained sequences that c...</td>\n",
       "      <td>https://github.com/topics/algorithm</td>\n",
       "    </tr>\n",
       "    <tr>\n",
       "      <th>3</th>\n",
       "      <td>Amp</td>\n",
       "      <td>Amp is a non-blocking concurrency library for ...</td>\n",
       "      <td>https://github.com/topics/amphp</td>\n",
       "    </tr>\n",
       "    <tr>\n",
       "      <th>4</th>\n",
       "      <td>Android</td>\n",
       "      <td>Android is an operating system built by Google...</td>\n",
       "      <td>https://github.com/topics/android</td>\n",
       "    </tr>\n",
       "    <tr>\n",
       "      <th>5</th>\n",
       "      <td>Angular</td>\n",
       "      <td>Angular is an open source web application plat...</td>\n",
       "      <td>https://github.com/topics/angular</td>\n",
       "    </tr>\n",
       "    <tr>\n",
       "      <th>6</th>\n",
       "      <td>Ansible</td>\n",
       "      <td>Ansible is a simple and powerful automation en...</td>\n",
       "      <td>https://github.com/topics/ansible</td>\n",
       "    </tr>\n",
       "    <tr>\n",
       "      <th>7</th>\n",
       "      <td>API</td>\n",
       "      <td>An API (Application Programming Interface) is ...</td>\n",
       "      <td>https://github.com/topics/api</td>\n",
       "    </tr>\n",
       "    <tr>\n",
       "      <th>8</th>\n",
       "      <td>Arduino</td>\n",
       "      <td>Arduino is an open source hardware and softwar...</td>\n",
       "      <td>https://github.com/topics/arduino</td>\n",
       "    </tr>\n",
       "    <tr>\n",
       "      <th>9</th>\n",
       "      <td>ASP.NET</td>\n",
       "      <td>ASP.NET is a web framework for building modern...</td>\n",
       "      <td>https://github.com/topics/aspnet</td>\n",
       "    </tr>\n",
       "    <tr>\n",
       "      <th>10</th>\n",
       "      <td>Atom</td>\n",
       "      <td>Atom is a open source text editor built with w...</td>\n",
       "      <td>https://github.com/topics/atom</td>\n",
       "    </tr>\n",
       "    <tr>\n",
       "      <th>11</th>\n",
       "      <td>Awesome Lists</td>\n",
       "      <td>An awesome list is a list of awesome things cu...</td>\n",
       "      <td>https://github.com/topics/awesome</td>\n",
       "    </tr>\n",
       "    <tr>\n",
       "      <th>12</th>\n",
       "      <td>Amazon Web Services</td>\n",
       "      <td>Amazon Web Services provides on-demand cloud c...</td>\n",
       "      <td>https://github.com/topics/aws</td>\n",
       "    </tr>\n",
       "    <tr>\n",
       "      <th>13</th>\n",
       "      <td>Azure</td>\n",
       "      <td>Azure is a cloud computing service created by ...</td>\n",
       "      <td>https://github.com/topics/azure</td>\n",
       "    </tr>\n",
       "    <tr>\n",
       "      <th>14</th>\n",
       "      <td>Babel</td>\n",
       "      <td>Babel is a compiler for writing next generatio...</td>\n",
       "      <td>https://github.com/topics/babel</td>\n",
       "    </tr>\n",
       "    <tr>\n",
       "      <th>15</th>\n",
       "      <td>Bash</td>\n",
       "      <td>Bash is a shell and command language interpret...</td>\n",
       "      <td>https://github.com/topics/bash</td>\n",
       "    </tr>\n",
       "    <tr>\n",
       "      <th>16</th>\n",
       "      <td>Bitcoin</td>\n",
       "      <td>Bitcoin is a cryptocurrency developed by Satos...</td>\n",
       "      <td>https://github.com/topics/bitcoin</td>\n",
       "    </tr>\n",
       "    <tr>\n",
       "      <th>17</th>\n",
       "      <td>Bootstrap</td>\n",
       "      <td>Bootstrap is an HTML, CSS, and JavaScript fram...</td>\n",
       "      <td>https://github.com/topics/bootstrap</td>\n",
       "    </tr>\n",
       "    <tr>\n",
       "      <th>18</th>\n",
       "      <td>Bot</td>\n",
       "      <td>A bot is an application that runs automated ta...</td>\n",
       "      <td>https://github.com/topics/bot</td>\n",
       "    </tr>\n",
       "    <tr>\n",
       "      <th>19</th>\n",
       "      <td>C</td>\n",
       "      <td>C is a general purpose programming language th...</td>\n",
       "      <td>https://github.com/topics/c</td>\n",
       "    </tr>\n",
       "    <tr>\n",
       "      <th>20</th>\n",
       "      <td>Chrome</td>\n",
       "      <td>Chrome is a web browser from the tech company ...</td>\n",
       "      <td>https://github.com/topics/chrome</td>\n",
       "    </tr>\n",
       "    <tr>\n",
       "      <th>21</th>\n",
       "      <td>Chrome extension</td>\n",
       "      <td>Chrome extensions enable users to customize th...</td>\n",
       "      <td>https://github.com/topics/chrome-extension</td>\n",
       "    </tr>\n",
       "    <tr>\n",
       "      <th>22</th>\n",
       "      <td>Command line interface</td>\n",
       "      <td>A CLI, or command-line interface, is a console...</td>\n",
       "      <td>https://github.com/topics/cli</td>\n",
       "    </tr>\n",
       "    <tr>\n",
       "      <th>23</th>\n",
       "      <td>Clojure</td>\n",
       "      <td>Clojure is a dynamic, general-purpose programm...</td>\n",
       "      <td>https://github.com/topics/clojure</td>\n",
       "    </tr>\n",
       "    <tr>\n",
       "      <th>24</th>\n",
       "      <td>Code quality</td>\n",
       "      <td>Automate your code review with style, quality,...</td>\n",
       "      <td>https://github.com/topics/code-quality</td>\n",
       "    </tr>\n",
       "    <tr>\n",
       "      <th>25</th>\n",
       "      <td>Code review</td>\n",
       "      <td>Ensure your code meets quality standards and s...</td>\n",
       "      <td>https://github.com/topics/code-review</td>\n",
       "    </tr>\n",
       "    <tr>\n",
       "      <th>26</th>\n",
       "      <td>Compiler</td>\n",
       "      <td>Compilers are software that translate higher-l...</td>\n",
       "      <td>https://github.com/topics/compiler</td>\n",
       "    </tr>\n",
       "    <tr>\n",
       "      <th>27</th>\n",
       "      <td>Continuous integration</td>\n",
       "      <td>Automatically build and test your code as you ...</td>\n",
       "      <td>https://github.com/topics/continuous-integration</td>\n",
       "    </tr>\n",
       "    <tr>\n",
       "      <th>28</th>\n",
       "      <td>COVID-19</td>\n",
       "      <td>The coronavirus disease 2019 (COVID-19) is an ...</td>\n",
       "      <td>https://github.com/topics/covid-19</td>\n",
       "    </tr>\n",
       "    <tr>\n",
       "      <th>29</th>\n",
       "      <td>C++</td>\n",
       "      <td>C++ is a general purpose and object-oriented p...</td>\n",
       "      <td>https://github.com/topics/cpp</td>\n",
       "    </tr>\n",
       "  </tbody>\n",
       "</table>\n",
       "</div>"
      ],
      "text/plain": [
       "                    Titles                                               desc  \\\n",
       "0                       3D  3D modeling is the process of virtually develo...   \n",
       "1                     Ajax  Ajax is a technique for creating interactive w...   \n",
       "2                Algorithm  Algorithms are self-contained sequences that c...   \n",
       "3                      Amp  Amp is a non-blocking concurrency library for ...   \n",
       "4                  Android  Android is an operating system built by Google...   \n",
       "5                  Angular  Angular is an open source web application plat...   \n",
       "6                  Ansible  Ansible is a simple and powerful automation en...   \n",
       "7                      API  An API (Application Programming Interface) is ...   \n",
       "8                  Arduino  Arduino is an open source hardware and softwar...   \n",
       "9                  ASP.NET  ASP.NET is a web framework for building modern...   \n",
       "10                    Atom  Atom is a open source text editor built with w...   \n",
       "11           Awesome Lists  An awesome list is a list of awesome things cu...   \n",
       "12     Amazon Web Services  Amazon Web Services provides on-demand cloud c...   \n",
       "13                   Azure  Azure is a cloud computing service created by ...   \n",
       "14                   Babel  Babel is a compiler for writing next generatio...   \n",
       "15                    Bash  Bash is a shell and command language interpret...   \n",
       "16                 Bitcoin  Bitcoin is a cryptocurrency developed by Satos...   \n",
       "17               Bootstrap  Bootstrap is an HTML, CSS, and JavaScript fram...   \n",
       "18                     Bot  A bot is an application that runs automated ta...   \n",
       "19                       C  C is a general purpose programming language th...   \n",
       "20                  Chrome  Chrome is a web browser from the tech company ...   \n",
       "21        Chrome extension  Chrome extensions enable users to customize th...   \n",
       "22  Command line interface  A CLI, or command-line interface, is a console...   \n",
       "23                 Clojure  Clojure is a dynamic, general-purpose programm...   \n",
       "24            Code quality  Automate your code review with style, quality,...   \n",
       "25             Code review  Ensure your code meets quality standards and s...   \n",
       "26                Compiler  Compilers are software that translate higher-l...   \n",
       "27  Continuous integration  Automatically build and test your code as you ...   \n",
       "28                COVID-19  The coronavirus disease 2019 (COVID-19) is an ...   \n",
       "29                     C++  C++ is a general purpose and object-oriented p...   \n",
       "\n",
       "                                                 Url  \n",
       "0                       https://github.com/topics/3d  \n",
       "1                     https://github.com/topics/ajax  \n",
       "2                https://github.com/topics/algorithm  \n",
       "3                    https://github.com/topics/amphp  \n",
       "4                  https://github.com/topics/android  \n",
       "5                  https://github.com/topics/angular  \n",
       "6                  https://github.com/topics/ansible  \n",
       "7                      https://github.com/topics/api  \n",
       "8                  https://github.com/topics/arduino  \n",
       "9                   https://github.com/topics/aspnet  \n",
       "10                    https://github.com/topics/atom  \n",
       "11                 https://github.com/topics/awesome  \n",
       "12                     https://github.com/topics/aws  \n",
       "13                   https://github.com/topics/azure  \n",
       "14                   https://github.com/topics/babel  \n",
       "15                    https://github.com/topics/bash  \n",
       "16                 https://github.com/topics/bitcoin  \n",
       "17               https://github.com/topics/bootstrap  \n",
       "18                     https://github.com/topics/bot  \n",
       "19                       https://github.com/topics/c  \n",
       "20                  https://github.com/topics/chrome  \n",
       "21        https://github.com/topics/chrome-extension  \n",
       "22                     https://github.com/topics/cli  \n",
       "23                 https://github.com/topics/clojure  \n",
       "24            https://github.com/topics/code-quality  \n",
       "25             https://github.com/topics/code-review  \n",
       "26                https://github.com/topics/compiler  \n",
       "27  https://github.com/topics/continuous-integration  \n",
       "28                https://github.com/topics/covid-19  \n",
       "29                     https://github.com/topics/cpp  "
      ]
     },
     "execution_count": 39,
     "metadata": {},
     "output_type": "execute_result"
    }
   ],
   "source": [
    "scrape_topics()"
   ]
  },
  {
   "cell_type": "code",
   "execution_count": 51,
   "id": "798632a4",
   "metadata": {},
   "outputs": [],
   "source": [
    "\n",
    "def scrape_topic(topic_url,path):\n",
    "    \n",
    "    if os.path.exists(path):\n",
    "        print('{} already exists'.format(path))\n",
    "        return\n",
    "        \n",
    "    topic_df=get_repos(topic_url)\n",
    "    topic_df.to_csv(path,index=None)\n",
    "def scrape_repos():\n",
    "    topic_df=scrape_topics()\n",
    "    os.makedirs('Githubdata',exist_ok=True)\n",
    "    for index,row in topic_df.iterrows():\n",
    "        scrape_topic(row['Url'],'Githubdata/{}.csv'.format(row['Titles']))\n",
    "        "
   ]
  },
  {
   "cell_type": "code",
   "execution_count": 52,
   "id": "320abf63",
   "metadata": {},
   "outputs": [],
   "source": [
    "scrape_repos()"
   ]
  },
  {
   "cell_type": "code",
   "execution_count": null,
   "id": "4abf56df",
   "metadata": {},
   "outputs": [],
   "source": []
  }
 ],
 "metadata": {
  "kernelspec": {
   "display_name": "Python 3 (ipykernel)",
   "language": "python",
   "name": "python3"
  },
  "language_info": {
   "codemirror_mode": {
    "name": "ipython",
    "version": 3
   },
   "file_extension": ".py",
   "mimetype": "text/x-python",
   "name": "python",
   "nbconvert_exporter": "python",
   "pygments_lexer": "ipython3",
   "version": "3.10.4"
  }
 },
 "nbformat": 4,
 "nbformat_minor": 5
}
